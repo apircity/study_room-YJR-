{
  "nbformat": 4,
  "nbformat_minor": 0,
  "metadata": {
    "colab": {
      "name": "dlwownd0908.ipynb",
      "provenance": [],
      "collapsed_sections": [],
      "authorship_tag": "ABX9TyPsEjF3kC2doQH6dE0YC7oq",
      "include_colab_link": true
    },
    "kernelspec": {
      "name": "python3",
      "display_name": "Python 3"
    },
    "language_info": {
      "name": "python"
    }
  },
  "cells": [
    {
      "cell_type": "markdown",
      "metadata": {
        "id": "view-in-github",
        "colab_type": "text"
      },
      "source": [
        "<a href=\"https://colab.research.google.com/github/dbwofla11/study_room-YJR-/blob/main/dlwownd0908.ipynb\" target=\"_parent\"><img src=\"https://colab.research.google.com/assets/colab-badge.svg\" alt=\"Open In Colab\"/></a>"
      ]
    },
    {
      "cell_type": "code",
      "execution_count": 11,
      "metadata": {
        "colab": {
          "base_uri": "https://localhost:8080/"
        },
        "id": "M9VphJamLZnm",
        "outputId": "dcd0c133-8d98-43ed-bbb4-a64f44081724"
      },
      "outputs": [
        {
          "output_type": "stream",
          "name": "stdout",
          "text": [
            "이 편지는 영국에서부터 시작되어 1893년 ...(가지기 or 땅에버리기)1234567890\n",
            "zzzzzzzzzzzzzzzzzzzzzzzzzzzzzzzzzzzzzzzz\n"
          ]
        }
      ],
      "source": [
        "import random as r  \n",
        "bitcoin = 2\n",
        "money = 0 \n",
        "price = 100\n",
        "# int , str , float \n",
        "menu = input(\"이 편지는 영국에서부터 시작되어 1893년 ...(가지기 or 땅에버리기)\")\n",
        "if(menu == \"가지기\"):\n",
        "  print(\"지금 당장 땅에 버려라, ㄱ,렇지 않으면 이 편지에 담긴 저주가...\")\n",
        "elif(menu == \"땅에버리기\"):\n",
        "  print(\"감히 이 편지를 땅에 버리다니.. 너에게 이 저주가 돌아갈 것이ㄷㅏ\")\n",
        "else:\n",
        "  print(\"zzzzzzzzzzzzzzzzzzzzzzzzzzzzzzzzzzzzzzzz\")"
      ]
    },
    {
      "cell_type": "code",
      "source": [
        "bitcoin = 2\n",
        "money = 0 \n",
        "price = 100\n",
        "menu = input(\"0O0O0O0OO0O0O0O0 :\")\n",
        "if(menu == \"0O0O0O0OO0O0O0O0\"):\n",
        "  print(\"오 어케했누\")\n",
        "else:\n",
        "  print(\"그럼 그렇지..꼴받네\")"
      ],
      "metadata": {
        "colab": {
          "base_uri": "https://localhost:8080/"
        },
        "id": "5nz9KGSmRsNG",
        "outputId": "c38bb144-c36c-4748-d7b7-669d2bd92923"
      },
      "execution_count": 29,
      "outputs": [
        {
          "output_type": "stream",
          "name": "stdout",
          "text": [
            "0O0O0O0OO0O0O0O0 :0O0O0O0OO0O0O0O0\n",
            "오 어케했누\n"
          ]
        }
      ]
    },
    {
      "cell_type": "code",
      "source": [
        "x , y = input(\"두 수를 입력하시오\").split()\n",
        "n1 = float(x)\n",
        "n2 = float(y)\n",
        "menu = input(\"아무거나\")\n",
        "if(menu == \"+\"):\n",
        "  print(n1 + n2)\n",
        "elif(menu == \"-\" ):\n",
        "  print(n1 - n2)"
      ],
      "metadata": {
        "colab": {
          "base_uri": "https://localhost:8080/"
        },
        "id": "bFVPE4KKVMtE",
        "outputId": "57dcb49f-b2d5-41fa-e32b-24dae6f9d032"
      },
      "execution_count": 35,
      "outputs": [
        {
          "output_type": "stream",
          "name": "stdout",
          "text": [
            "두 수를 입력하시오3 3\n",
            "아무거나+\n",
            "6.0\n"
          ]
        }
      ]
    }
  ]
}