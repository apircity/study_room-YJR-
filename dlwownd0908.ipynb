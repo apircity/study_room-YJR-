{
  "nbformat": 4,
  "nbformat_minor": 0,
  "metadata": {
    "colab": {
      "name": "dlwownd0908.ipynb",
      "provenance": [],
      "authorship_tag": "ABX9TyN4662sxkPU142k5mrIVpH6",
      "include_colab_link": true
    },
    "kernelspec": {
      "name": "python3",
      "display_name": "Python 3"
    },
    "language_info": {
      "name": "python"
    }
  },
  "cells": [
    {
      "cell_type": "markdown",
      "metadata": {
        "id": "view-in-github",
        "colab_type": "text"
      },
      "source": [
        "<a href=\"https://colab.research.google.com/github/dbwofla11/study_room-YJR-/blob/main/dlwownd0908.ipynb\" target=\"_parent\"><img src=\"https://colab.research.google.com/assets/colab-badge.svg\" alt=\"Open In Colab\"/></a>"
      ]
    },
    {
      "cell_type": "code",
      "execution_count": 11,
      "metadata": {
        "colab": {
          "base_uri": "https://localhost:8080/"
        },
        "id": "M9VphJamLZnm",
        "outputId": "dcd0c133-8d98-43ed-bbb4-a64f44081724"
      },
      "outputs": [
        {
          "output_type": "stream",
          "name": "stdout",
          "text": [
            "이 편지는 영국에서부터 시작되어 1893년 ...(가지기 or 땅에버리기)1234567890\n",
            "zzzzzzzzzzzzzzzzzzzzzzzzzzzzzzzzzzzzzzzz\n"
          ]
        }
      ],
      "source": [
        "import random as r  \n",
        "bitcoin = 2\n",
        "money = 0 \n",
        "price = 100\n",
        "# int , str , float \n",
        "menu = input(\"이 편지는 영국에서부터 시작되어 1893년 ...(가지기 or 땅에버리기)\")\n",
        "if(menu == \"가지기\"):\n",
        "  print(\"지금 당장 땅에 버려라, ㄱ,렇지 않으면 이 편지에 담긴 저주가...\")\n",
        "elif(menu == \"땅에버리기\"):\n",
        "  print(\"감히 이 편지를 땅에 버리다니.. 너에게 이 저주가 돌아갈 것이ㄷㅏ\")\n",
        "else:\n",
        "  print(\"zzzzzzzzzzzzzzzzzzzzzzzzzzzzzzzzzzzzzzzz\")"
      ]
    }
  ]
}